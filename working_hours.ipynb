{
 "cells": [
  {
   "cell_type": "code",
   "execution_count": 2,
   "metadata": {},
   "outputs": [],
   "source": [
    "from datetime import datetime\n",
    "from workinghours.workinghours import working_hours"
   ]
  },
  {
   "cell_type": "code",
   "execution_count": 3,
   "metadata": {},
   "outputs": [
    {
     "data": {
      "text/plain": [
       "19"
      ]
     },
     "execution_count": 3,
     "metadata": {},
     "output_type": "execute_result"
    }
   ],
   "source": [
    "FORMAT = \"%Y-%m-%d %H:%M:%S\"\n",
    "START_DATE = datetime.strptime('2019-12-02 08:00:00', FORMAT)\n",
    "END_DATE = datetime.strptime('2019-12-04 12:15:00', FORMAT)\n",
    "working_hours(\n",
    "    start_date = START_DATE,\n",
    "    end_date = END_DATE\n",
    ")"
   ]
  },
  {
   "cell_type": "code",
   "execution_count": 4,
   "metadata": {},
   "outputs": [
    {
     "data": {
      "text/plain": [
       "40"
      ]
     },
     "execution_count": 4,
     "metadata": {},
     "output_type": "execute_result"
    }
   ],
   "source": [
    "START_DATE = datetime.strptime('2019-12-01 09:30:00', FORMAT)\n",
    "END_DATE = datetime.strptime('2019-12-07 12:15:00', FORMAT)\n",
    "working_hours(\n",
    "    start_date = START_DATE,\n",
    "    end_date = END_DATE\n",
    ")"
   ]
  }
 ],
 "metadata": {
  "interpreter": {
   "hash": "f95c314ae890418c1417ef2c668ada9f73f05e1d16f55a633f0511b7e450fc4c"
  },
  "kernelspec": {
   "display_name": "Python 3.9.6 64-bit ('venv-bdf': venv)",
   "name": "python3"
  },
  "language_info": {
   "codemirror_mode": {
    "name": "ipython",
    "version": 3
   },
   "file_extension": ".py",
   "mimetype": "text/x-python",
   "name": "python",
   "nbconvert_exporter": "python",
   "pygments_lexer": "ipython3",
   "version": "3.9.6"
  },
  "orig_nbformat": 4
 },
 "nbformat": 4,
 "nbformat_minor": 2
}
